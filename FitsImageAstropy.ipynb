{
 "metadata": {
  "name": "",
  "signature": "sha256:8dabe0c83ea24a77801d0360a861b0effed658282ee3aa6951e75d198034a662"
 },
 "nbformat": 3,
 "nbformat_minor": 0,
 "worksheets": [
  {
   "cells": [
    {
     "cell_type": "heading",
     "level": 1,
     "metadata": {},
     "source": [
      "Python Environment"
     ]
    },
    {
     "cell_type": "markdown",
     "metadata": {},
     "source": [
      "Python page:\n",
      "\n",
      "https://www.python.org/\n",
      "\n",
      "Anaconda Distribution of Python\n",
      "https://store.continuum.io/cshop/anaconda/\n",
      "\n",
      "List of packages:\n",
      "http://docs.continuum.io/anaconda/pkg-docs.html\n",
      "\n",
      "Including  \n",
      "           numpy - array manipulations\n",
      "           \n",
      "           SciPy - scientific library with useful stats/math functions\n",
      "           \n",
      "           matplotlib - plotting\n",
      "           \n",
      "           astropy - astronomy specific package - includes I/O for reading fits and ascii\n",
      "                     units, coordinates transformation, astro specific functions including convolution,\n",
      "                     cosmology etc.+\n",
      "\n",
      "\n",
      "http://www.numpy.org/\n",
      "\n",
      "http://matplotlib.org/\n",
      "\n",
      "http://www.astropy.org/\n",
      "\n",
      "http://docs.scipy.org/doc/scipy/reference/stats.html"
     ]
    },
    {
     "cell_type": "markdown",
     "metadata": {},
     "source": [
      "We use the homework example in this session"
     ]
    },
    {
     "cell_type": "markdown",
     "metadata": {},
     "source": [
      "First import the astropy.io package to read the event file"
     ]
    },
    {
     "cell_type": "code",
     "collapsed": false,
     "input": [
      "from astropy.io import fits "
     ],
     "language": "python",
     "metadata": {},
     "outputs": [],
     "prompt_number": 1
    },
    {
     "cell_type": "markdown",
     "metadata": {},
     "source": [
      "For documentation and information about handling the FITS files in Astropy check http://docs.astropy.org/en/stable/io/fits/index.html"
     ]
    },
    {
     "cell_type": "code",
     "collapsed": false,
     "input": [
      "f = fits.open('orion_evt2.fits')\n",
      "f.info() # information about the file blocks (HDU)"
     ],
     "language": "python",
     "metadata": {},
     "outputs": [
      {
       "output_type": "stream",
       "stream": "stdout",
       "text": [
        "Filename: orion_evt2.fits\n",
        "No.    Name         Type      Cards   Dimensions   Format\n",
        "0    PRIMARY     PrimaryHDU      36   ()              \n",
        "1    EVENTS      BinTableHDU   1000   70424R x 5C   [1E, 1E, 1J, 1D, 1E]   \n",
        "2    GTI         BinTableHDU     28   1R x 2C      [1D, 1D]   \n",
        "3    GTI         BinTableHDU     28   1R x 2C      [1D, 1D]   \n",
        "4    GTI         BinTableHDU     28   1R x 2C      [1D, 1D]   \n",
        "5    GTI         BinTableHDU     28   1R x 2C      [1D, 1D]   \n",
        "6    GTI         BinTableHDU     28   1R x 2C      [1D, 1D]   \n",
        "7    GTI         BinTableHDU     28   1R x 2C      [1D, 1D]   \n"
       ]
      }
     ],
     "prompt_number": 2
    },
    {
     "cell_type": "code",
     "collapsed": false,
     "input": [
      "etime = f[1].header['EXPOSURE']   # read the exposure from the header\n",
      "print etime"
     ],
     "language": "python",
     "metadata": {},
     "outputs": [
      {
       "output_type": "stream",
       "stream": "stdout",
       "text": [
        "38365.5617073\n"
       ]
      }
     ],
     "prompt_number": 3
    },
    {
     "cell_type": "code",
     "collapsed": false,
     "input": [
      "print f[1].columns  # list columns"
     ],
     "language": "python",
     "metadata": {},
     "outputs": [
      {
       "output_type": "stream",
       "stream": "stdout",
       "text": [
        "ColDefs(\n",
        "    name = 'x'; format = '1E'; unit = 'pixel'\n",
        "    name = 'y'; format = '1E'; unit = 'pixel'\n",
        "    name = 'pi'; format = '1J'; unit = 'chan'; null = 0\n",
        "    name = 'time'; format = '1D'; unit = 's'\n",
        "    name = 'energy'; format = '1E'; unit = 'eV'\n",
        ")\n"
       ]
      }
     ],
     "prompt_number": 4
    },
    {
     "cell_type": "code",
     "collapsed": false,
     "input": [
      "dat = f[1].data # define the variable based on the data from the file"
     ],
     "language": "python",
     "metadata": {},
     "outputs": [],
     "prompt_number": 5
    },
    {
     "cell_type": "code",
     "collapsed": false,
     "input": [
      "print dat['x']  # access the 'x' column"
     ],
     "language": "python",
     "metadata": {},
     "outputs": [
      {
       "output_type": "stream",
       "stream": "stdout",
       "text": [
        "[ 3988.12524414  4031.62963867  4071.75463867 ...,  4054.4465332\n",
        "  4051.70092773  4033.97680664]\n"
       ]
      }
     ],
     "prompt_number": 6
    },
    {
     "cell_type": "code",
     "collapsed": false,
     "input": [
      "print dat['y'] # access the 'y' column"
     ],
     "language": "python",
     "metadata": {},
     "outputs": [
      {
       "output_type": "stream",
       "stream": "stdout",
       "text": [
        "[ 4198.44140625  4125.19775391  4130.33154297 ...,  4149.37792969\n",
        "  4147.04931641  4123.25292969]\n"
       ]
      }
     ],
     "prompt_number": 7
    },
    {
     "cell_type": "code",
     "collapsed": false,
     "input": [
      "import pyregion    # this package reads the ds9 regions contained in my region_file"
     ],
     "language": "python",
     "metadata": {},
     "outputs": [],
     "prompt_number": 8
    },
    {
     "cell_type": "code",
     "collapsed": false,
     "input": [
      "region_file = 'src.reg'\n",
      "r = pyregion.open(region_file)\n",
      "print r[0].coord_format, r[0].name, r[0].comment\n",
      "print r[0].coord_list"
     ],
     "language": "python",
     "metadata": {},
     "outputs": [
      {
       "output_type": "stream",
       "stream": "stdout",
       "text": [
        "physical circle None\n",
        "[4017.3979, 4223.982, 3.9544753]\n"
       ]
      }
     ],
     "prompt_number": 9
    },
    {
     "cell_type": "code",
     "collapsed": false,
     "input": [
      "len(r)  # check the size - 20 regions"
     ],
     "language": "python",
     "metadata": {},
     "outputs": [
      {
       "metadata": {},
       "output_type": "pyout",
       "prompt_number": 10,
       "text": [
        "20"
       ]
      }
     ],
     "prompt_number": 10
    },
    {
     "cell_type": "code",
     "collapsed": false,
     "input": [
      "print r[1]  # r is a list of regions"
     ],
     "language": "python",
     "metadata": {},
     "outputs": [
      {
       "output_type": "stream",
       "stream": "stdout",
       "text": [
        "Shape : circle ( Number(4088.7157),Number(4222.6003),Number(3.9544753) )\n"
       ]
      }
     ],
     "prompt_number": 11
    },
    {
     "cell_type": "code",
     "collapsed": false,
     "input": [
      "reg_file = 'src_ds9.reg'  # I have another region file saved with ds9 format and contains the regions attributes\n",
      "rds9 = pyregion.open(reg_file)\n",
      "print rds9[0].coord_format,rds9[0].name, rds9[0].comment"
     ],
     "language": "python",
     "metadata": {},
     "outputs": [
      {
       "output_type": "stream",
       "stream": "stdout",
       "text": [
        "physical circle None\n"
       ]
      }
     ],
     "prompt_number": 12
    },
    {
     "cell_type": "code",
     "collapsed": false,
     "input": [
      "print rds9[0].attr"
     ],
     "language": "python",
     "metadata": {},
     "outputs": [
      {
       "output_type": "stream",
       "stream": "stdout",
       "text": [
        "([], {'dash': '0 ', 'fixed': '0 ', 'source': '1', 'color': 'green', 'edit': '1 ', 'move': '1 ', 'include': '1 ', 'highlite': '1 ', 'width': '1 ', 'dashlist': '8 3 ', 'font': '\"helvetica 10 normal roman\"', 'select': '1 ', 'delete': '1 '})\n"
       ]
      }
     ],
     "prompt_number": 13
    },
    {
     "cell_type": "code",
     "collapsed": false,
     "input": [
      "import pyregion._region_filter as filter  # The package will allow me to filter the event file \n",
      "                                          # and calculate counts and count rates.\n",
      "import numpy as np      # We import numpy package to operate and manipulate arrays"
     ],
     "language": "python",
     "metadata": {},
     "outputs": [],
     "prompt_number": 14
    },
    {
     "cell_type": "code",
     "collapsed": false,
     "input": [
      "# This is main calculation of region parameters:\n",
      "# define x,y\n",
      "\n",
      "x = dat['x']\n",
      "y = dat['y']\n",
      "mx = []\n",
      "my = []\n",
      "src_reg_cts = []\n",
      "bkg_reg_cts = []\n",
      "src_err = []\n",
      "bkg_err = []\n",
      "src_area = []\n",
      "bkg_area = []\n",
      "bkg_width = 5\n",
      "net_counts = []\n",
      "net_error = []\n",
      "rate = []\n",
      "\n",
      "bkg_width = 5  # this is the width of the annulus we use for a background region\n",
      "\n",
      "for r in rds9:\n",
      "    cx, cy, cr = r.coord_list\n",
      "    myfilter = filter.Circle(cx, cy, cr)\n",
      "    area = np.pi*cr**2\n",
      "    src_area.append(area)\n",
      "    ok = myfilter.inside(x, y)\n",
      "    mx.append(x[ok].mean())\n",
      "    my.append(y[ok].mean())\n",
      "    src = np.sum(ok)\n",
      "    src_err.append(np.sqrt(src))\n",
      "    src_reg_cts.append(np.sum(ok))\n",
      "    mybkg = filter.Circle(cx, cy, cr + bkg_width)\n",
      "    bg_area = np.pi*(cr+bkg_width)**2 - area \n",
      "    bkg_area.append(bg_area)\n",
      "    ok_bkg = mybkg.inside(x, y) & ~ok\n",
      "    bkg = np.sum(ok_bkg)\n",
      "    bkg_err.append(np.sqrt(bkg))\n",
      "    bkg_reg_cts.append(np.sum(ok_bkg))\n",
      "    bscale = area/bg_area\n",
      "    ncounts = src - bkg * bscale\n",
      "    net_counts.append(ncounts)\n",
      "    net_error.append(np.sqrt(src + bkg))\n",
      "    rate.append(ncounts/etime) \n",
      "    #print net_counts, net_error\n",
      "    #if r is rds9[0]:\n",
      "    #    plt.plot(x[ok_bkg], y[ok_bkg], '.')"
     ],
     "language": "python",
     "metadata": {},
     "outputs": [],
     "prompt_number": 15
    },
    {
     "cell_type": "code",
     "collapsed": false,
     "input": [
      "# Make a Python dictionary for all the calculated parameters\n",
      "params = {'src':src_reg_cts, 'src-err':src_err, 'area':src_area,\n",
      "          'bkg':bkg_reg_cts, 'bkg-err':bkg_err, 'bkg-area':bkg_area, \n",
      "          'net-src-cts':net_counts, 'net-src-error': net_error, \n",
      "          'rate': rate}\n",
      "\n",
      "\n",
      "# More astropy - we will write the output file and modify the formats\n",
      "from astropy.io import ascii\n",
      "from astropy.table import Table\n",
      "#for key, val in params.items():\n",
      "#    print key, type(val)\n",
      "# from astropy.io import ascii\n",
      "\n",
      "t = Table(params)\n",
      "for col in t.columns.values():\n",
      "    if col.name not in ('src', 'bkg'):\n",
      "        col.format = '%.2f'\n",
      "\n",
      "# Write the results as a Latex table:\n",
      "ascii.write(t, 'results.tex', Writer=ascii.Latex, col_align='|lr|',\n",
      "            latexdict={'preamble': r'\\begin{center}',\n",
      "                       'tablefoot': r'\\end{center}',\n",
      "                       'tabletype': 'table*'})"
     ],
     "language": "python",
     "metadata": {},
     "outputs": [],
     "prompt_number": 16
    },
    {
     "cell_type": "code",
     "collapsed": false,
     "input": [
      "print(t)  # see the table"
     ],
     "language": "python",
     "metadata": {},
     "outputs": [
      {
       "output_type": "stream",
       "stream": "stdout",
       "text": [
        "net-src-cts src  rate bkg  bkg-area  area  bkg-err net-src-error src-err\n",
        "----------- ---- ---- ---- -------- ------ ------- ------------- -------\n",
        "    1837.50 1869 0.05  130   202.77  49.13   11.40         44.71   43.23\n",
        "     834.21  935 0.02  416   202.77  49.13   20.40         36.76   30.58\n",
        "    1372.86 1400 0.04  112   202.77  49.13   10.58         38.88   37.42\n",
        "     320.28  337 0.01   69   202.77  49.13    8.31         20.15   18.36\n",
        "     168.35  195 0.00  110   202.77  49.13   10.49         17.46   13.96\n",
        "    2815.04 2879 0.07  264   202.77  49.13   16.25         56.06   53.66\n",
        "    7839.17 7972 0.20  247   305.86 164.48   15.72         90.66   89.29\n",
        "    5814.03 6044 0.15 2222   147.88  15.31   47.14         90.92   77.74\n",
        "     438.61  456 0.01  168   147.88  15.31   12.96         24.98   21.35\n",
        "     564.92  579 0.01  136   147.88  15.31   11.66         26.74   24.06\n",
        "    2979.30 3068 0.08  385   198.36  45.70   19.62         58.76   55.39\n",
        "     175.72  190 0.00   62   198.36  45.70    7.87         15.87   13.78\n",
        "     210.18  224 0.01   60   198.36  45.70    7.75         16.85   14.97\n",
        "     158.72  173 0.00   62   198.36  45.70    7.87         15.33   13.15\n",
        "      96.78  106 0.00   40   198.36  45.70    6.32         12.08   10.30\n",
        "    3576.29 3655 0.09  137   318.19 182.81   11.70         61.58   60.46\n",
        "      93.99  114 0.00   71   217.22  61.22    8.43         13.60   10.68\n",
        "      68.65   85 0.00   58   217.22  61.22    7.62         11.96    9.22\n",
        "     160.85  171 0.00   36   217.22  61.22    6.00         14.39   13.08\n",
        "      75.10  103 0.00   99   217.22  61.22    9.95         14.21   10.15\n"
       ]
      }
     ],
     "prompt_number": 17
    },
    {
     "cell_type": "code",
     "collapsed": false,
     "input": [
      "import matplotlib.pyplot as plt  # Try to plot the data\n",
      "import matplotlib.cm as cm\n",
      "%matplotlib inline\n",
      "\n",
      "plt.plot(dat['x'][ok], dat['y'][ok], ',')"
     ],
     "language": "python",
     "metadata": {},
     "outputs": [
      {
       "metadata": {},
       "output_type": "pyout",
       "prompt_number": 18,
       "text": [
        "[<matplotlib.lines.Line2D at 0x10632e510>]"
       ]
      },
      {
       "metadata": {},
       "output_type": "display_data",
       "png": "[encoded data removed]",
       "text": [
        "<matplotlib.figure.Figure at 0x105dddbd0>"
       ]
      }
     ],
     "prompt_number": 18
    },
    {
     "cell_type": "code",
     "collapsed": false,
     "input": [
      "f_img = fits.open('orion_img.fits')\n",
      "f_img.info()\n",
      "\n",
      "\n",
      "try:\n",
      "    from astropy.wcs import WCS\n",
      "    from wcsaxes import WCSAxes\n",
      "    wcs = WCS(f_img[0].header)\n",
      "    fig = plt.figure()\n",
      "    ax = WCSAxes(fig, [0.1, 0.1, 0.8, 0.8], wcs=wcs)\n",
      "    fig.add_axes(ax)\n",
      "except ImportError:\n",
      "    ax=plt.subplot(111)\n",
      "\n",
      "ax.imshow(f_img[0].data, cmap=cm.gray, interpolation='gaussian',vmin=0., vmax=10., origin=\"lower\")\n"
     ],
     "language": "python",
     "metadata": {},
     "outputs": [
      {
       "output_type": "stream",
       "stream": "stdout",
       "text": [
        "Filename: orion_img.fits\n",
        "No.    Name         Type      Cards   Dimensions   Format\n",
        "0    PRIMARY     PrimaryHDU      28   (760, 450)   float32   \n"
       ]
      },
      {
       "metadata": {},
       "output_type": "pyout",
       "prompt_number": 19,
       "text": [
        "<matplotlib.image.AxesImage at 0x10634a750>"
       ]
      },
      {
       "metadata": {},
       "output_type": "display_data",
       "png": "[encoded data removed]",
       "text": [
        "<matplotlib.figure.Figure at 0x1061ae6d0>"
       ]
      }
     ],
     "prompt_number": 19
    }
   ],
   "metadata": {}
  }
 ]
}